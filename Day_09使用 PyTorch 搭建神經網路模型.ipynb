{
  "nbformat": 4,
  "nbformat_minor": 0,
  "metadata": {
    "kernelspec": {
      "display_name": "Python 3",
      "language": "python",
      "name": "python3"
    },
    "language_info": {
      "codemirror_mode": {
        "name": "ipython",
        "version": 3
      },
      "file_extension": ".py",
      "mimetype": "text/x-python",
      "name": "python",
      "nbconvert_exporter": "python",
      "pygments_lexer": "ipython3",
      "version": "3.7.4"
    },
    "colab": {
      "name": "Day09_作業.ipynb",
      "provenance": []
    }
  },
  "cells": [
    {
      "cell_type": "code",
      "metadata": {
        "id": "4UoF0Q9j2uGv"
      },
      "source": [
        "import torch\n",
        "import torch.nn as nn\n",
        "import torchvision.models as models\n",
        "import torch.nn.functional as F\n",
        "import numpy as np\n",
        "import torch.optim as optim\n"
      ],
      "execution_count": 1,
      "outputs": []
    },
    {
      "cell_type": "markdown",
      "metadata": {
        "id": "f53qa1xh2uGy"
      },
      "source": [
        "### 搭建模型"
      ]
    },
    {
      "cell_type": "code",
      "metadata": {
        "id": "w3whL8gr2uGz"
      },
      "source": [
        "class LinearBNAC(nn.Module):\n",
        "    def __init__(self, in_channels, out_channels, bias=True, dropout=0.3, is_output=False):\n",
        "        super(LinearBNAC, self).__init__()\n",
        "        if is_output and out_channels==1:\n",
        "            self.linear = nn.Sequential(\n",
        "                nn.Linear(in_channels, out_channels, bias=bias),\n",
        "                nn.Sigmoid()\n",
        "            )\n",
        "        elif is_output:\n",
        "            self.linear = nn.Sequential(\n",
        "                nn.Linear(in_channels, out_channels, bias=bias),\n",
        "                nn.Softmax(dim=1)\n",
        "            )   \n",
        "        else:\n",
        "            self.linear = nn.Sequential(\n",
        "                nn.Linear(in_channels, out_channels, bias=bias),\n",
        "                nn.Dropout(dropout),\n",
        "                nn.BatchNorm1d(out_channels),\n",
        "                nn.LeakyReLU(inplace=True)\n",
        "            )\n",
        "            \n",
        "    def forward(self, x):\n",
        "        out=self.linear(x)\n",
        "        return out"
      ],
      "execution_count": 2,
      "outputs": []
    },
    {
      "cell_type": "code",
      "metadata": {
        "id": "0jIzaaov2uGz"
      },
      "source": [
        "class Model(nn.Module):\n",
        "    def __init__(self, input_dimention, output_classes=1):\n",
        "        super(Model, self).__init__()\n",
        "        self.layer1 = LinearBNAC(input_dimention, 128)\n",
        "        self.layer2 = LinearBNAC(128, 64)\n",
        "        self.layer3 = LinearBNAC(64, 32)\n",
        "        self.output = LinearBNAC(32, output_classes, is_output=True)\n",
        "    def forward(self, x):\n",
        "        x = self.layer1(x)\n",
        "        x = self.layer2(x)\n",
        "        x = self.layer3(x)\n",
        "        x = self.output(x)\n",
        "        return x \n",
        "        "
      ],
      "execution_count": 3,
      "outputs": []
    },
    {
      "cell_type": "markdown",
      "metadata": {
        "id": "gvt-0xS_2uG0"
      },
      "source": [
        "### 準備輸入資料、優化器、標籤資料、模型輸出"
      ]
    },
    {
      "cell_type": "code",
      "metadata": {
        "id": "wHRj4ROf2uG0"
      },
      "source": [
        "model = Model(input_dimention=256,output_classes=10)\n",
        "optimizer = optim.Adam(params=model.parameters(), lr=1e-3, weight_decay=1e-3)"
      ],
      "execution_count": 4,
      "outputs": []
    },
    {
      "cell_type": "code",
      "metadata": {
        "id": "-QWcj-0a2uG0"
      },
      "source": [
        "batch_size = 4\n",
        "input_features = 256\n",
        "dummy_input = torch.randn(batch_size, input_features,)\n",
        "\n",
        "#target = torch.empty(4, dtype=torch.float).random_(10)\n",
        "target = torch.tensor([9., 5., 4., 4.], dtype=torch.long)"
      ],
      "execution_count": 5,
      "outputs": []
    },
    {
      "cell_type": "code",
      "metadata": {
        "colab": {
          "base_uri": "https://localhost:8080/"
        },
        "id": "wOxR5Oua7lvT",
        "outputId": "5ebc1bf8-6ac6-4227-c8bd-8ae3188b80ff"
      },
      "source": [
        "output = model(dummy_input)\n",
        "print(output)"
      ],
      "execution_count": 7,
      "outputs": [
        {
          "output_type": "stream",
          "text": [
            "tensor([[0.1087, 0.0521, 0.0948, 0.0656, 0.0846, 0.0407, 0.0952, 0.0625, 0.1524,\n",
            "         0.2434],\n",
            "        [0.0755, 0.0614, 0.0489, 0.1665, 0.1386, 0.1069, 0.0933, 0.1310, 0.0956,\n",
            "         0.0823],\n",
            "        [0.0740, 0.1038, 0.1096, 0.0507, 0.2534, 0.0562, 0.1185, 0.0758, 0.1069,\n",
            "         0.0511],\n",
            "        [0.0839, 0.0974, 0.0849, 0.1748, 0.1311, 0.0852, 0.1154, 0.1054, 0.0515,\n",
            "         0.0703]], grad_fn=<SoftmaxBackward>)\n"
          ],
          "name": "stdout"
        }
      ]
    },
    {
      "cell_type": "markdown",
      "metadata": {
        "id": "F4rLgkA02uG2"
      },
      "source": [
        "### 計算 CrossEntropy Loss\n",
        "* 請注意哪一個 Loss最適合：我們已經使用 softmax\n",
        "* 因為我們有使用dropout，並隨機產生dummy_input，所以各為學員得到的值會與解答不同，然而步驟原理需要相同"
      ]
    },
    {
      "cell_type": "code",
      "metadata": {
        "id": "IOJ-V4Rp2uG2"
      },
      "source": [
        "from torch.nn import NLLLoss, LogSoftmax, CrossEntropyLoss"
      ],
      "execution_count": 8,
      "outputs": []
    },
    {
      "cell_type": "code",
      "metadata": {
        "id": "2D0ncE-M2uG2"
      },
      "source": [
        "criterion = NLLLoss()"
      ],
      "execution_count": 9,
      "outputs": []
    },
    {
      "cell_type": "code",
      "metadata": {
        "id": "3ynsYSSY2uG2"
      },
      "source": [
        "loss = criterion(torch.log(output), target)"
      ],
      "execution_count": 10,
      "outputs": []
    },
    {
      "cell_type": "markdown",
      "metadata": {
        "id": "UVjD1b4S2uG3"
      },
      "source": [
        "### 完成back propagation並更新梯度"
      ]
    },
    {
      "cell_type": "code",
      "metadata": {
        "id": "zw-jCX9N2uG3"
      },
      "source": [
        "loss.backward()"
      ],
      "execution_count": 11,
      "outputs": []
    },
    {
      "cell_type": "code",
      "metadata": {
        "colab": {
          "base_uri": "https://localhost:8080/"
        },
        "id": "YHRLzxBxU36_",
        "outputId": "f1aac8b5-e2ae-4b15-91c9-475dee314c30"
      },
      "source": [
        "print('weight : {}'.format(model.layer1.linear[0].weight))\n",
        "print('\\n')\n",
        "print('grad : {}'.format(model.layer1.linear[0].weight.grad))"
      ],
      "execution_count": 12,
      "outputs": [
        {
          "output_type": "stream",
          "text": [
            "weight : Parameter containing:\n",
            "tensor([[-0.0531,  0.0247, -0.0010,  ..., -0.0077,  0.0522, -0.0448],\n",
            "        [ 0.0481,  0.0432,  0.0321,  ..., -0.0328,  0.0417, -0.0334],\n",
            "        [ 0.0531,  0.0606,  0.0115,  ...,  0.0224,  0.0539,  0.0256],\n",
            "        ...,\n",
            "        [ 0.0204,  0.0449, -0.0230,  ..., -0.0119, -0.0528, -0.0531],\n",
            "        [-0.0551, -0.0469, -0.0225,  ...,  0.0612,  0.0331,  0.0133],\n",
            "        [-0.0038, -0.0366,  0.0141,  ..., -0.0034,  0.0421, -0.0011]],\n",
            "       requires_grad=True)\n",
            "\n",
            "\n",
            "grad : tensor([[ 0.0146,  0.0075, -0.0084,  ...,  0.0377, -0.0261, -0.0067],\n",
            "        [ 0.1080, -0.0516,  0.0277,  ..., -0.0318, -0.0465,  0.0198],\n",
            "        [-0.0326,  0.0211, -0.0126,  ...,  0.0021,  0.0235,  0.0049],\n",
            "        ...,\n",
            "        [ 0.0679, -0.0205,  0.0507,  ..., -0.0696, -0.0247,  0.0137],\n",
            "        [-0.0086, -0.0015,  0.0354,  ..., -0.0128, -0.0209, -0.0324],\n",
            "        [ 0.1082, -0.0580,  0.0170,  ...,  0.0483, -0.0956, -0.0221]])\n"
          ],
          "name": "stdout"
        }
      ]
    },
    {
      "cell_type": "code",
      "metadata": {
        "id": "r710jiqk2uG3"
      },
      "source": [
        "optimizer.step()"
      ],
      "execution_count": 13,
      "outputs": []
    },
    {
      "cell_type": "code",
      "metadata": {
        "colab": {
          "base_uri": "https://localhost:8080/"
        },
        "id": "moyU44aU2uG4",
        "outputId": "4f199db0-0f85-4a6b-938b-445caf2f528c"
      },
      "source": [
        "print('weight : {}'.format(model.layer1.linear[0].weight))\n",
        "print('\\n')\n",
        "print('grad : {}'.format(model.layer1.linear[0].weight.grad))"
      ],
      "execution_count": 14,
      "outputs": [
        {
          "output_type": "stream",
          "text": [
            "weight : Parameter containing:\n",
            "tensor([[-5.4107e-02,  2.3654e-02, -9.3911e-06,  ..., -8.7473e-03,\n",
            "          5.3188e-02, -4.3811e-02],\n",
            "        [ 4.7101e-02,  4.4231e-02,  3.1085e-02,  ..., -3.1816e-02,\n",
            "          4.2653e-02, -3.4355e-02],\n",
            "        [ 5.4105e-02,  5.9623e-02,  1.2523e-02,  ...,  2.1390e-02,\n",
            "          5.2945e-02,  2.4614e-02],\n",
            "        ...,\n",
            "        [ 1.9432e-02,  4.5919e-02, -2.3956e-02,  ..., -1.0902e-02,\n",
            "         -5.1839e-02, -5.4077e-02],\n",
            "        [-5.4081e-02, -4.5889e-02, -2.3463e-02,  ...,  6.2156e-02,\n",
            "          3.4139e-02,  1.4349e-02],\n",
            "        [-4.8210e-03, -3.5602e-02,  1.3085e-02,  ..., -4.4479e-03,\n",
            "          4.3123e-02, -1.2605e-04]], requires_grad=True)\n",
            "\n",
            "\n",
            "grad : tensor([[ 0.0146,  0.0075, -0.0084,  ...,  0.0377, -0.0261, -0.0067],\n",
            "        [ 0.1080, -0.0516,  0.0277,  ..., -0.0318, -0.0465,  0.0198],\n",
            "        [-0.0326,  0.0211, -0.0126,  ...,  0.0021,  0.0235,  0.0049],\n",
            "        ...,\n",
            "        [ 0.0679, -0.0205,  0.0507,  ..., -0.0696, -0.0247,  0.0137],\n",
            "        [-0.0086, -0.0015,  0.0354,  ..., -0.0128, -0.0209, -0.0324],\n",
            "        [ 0.1082, -0.0580,  0.0170,  ...,  0.0483, -0.0956, -0.0221]])\n"
          ],
          "name": "stdout"
        }
      ]
    },
    {
      "cell_type": "markdown",
      "metadata": {
        "id": "0hsn5BAq2uG4"
      },
      "source": [
        "### 清空 gradient"
      ]
    },
    {
      "cell_type": "code",
      "metadata": {
        "id": "lio7Arq82uG4"
      },
      "source": [
        "optimizer.zero_grad()"
      ],
      "execution_count": 15,
      "outputs": []
    },
    {
      "cell_type": "code",
      "metadata": {
        "colab": {
          "base_uri": "https://localhost:8080/"
        },
        "id": "9GhevNSr2uG4",
        "outputId": "f04e1571-565e-49bc-e43f-f036ad31d97a"
      },
      "source": [
        "print('weight : {}'.format(model.layer1.linear[0].weight))\n",
        "print('\\n')\n",
        "print('grad : {}'.format(model.layer1.linear[0].weight.grad))"
      ],
      "execution_count": 16,
      "outputs": [
        {
          "output_type": "stream",
          "text": [
            "weight : Parameter containing:\n",
            "tensor([[-5.4107e-02,  2.3654e-02, -9.3911e-06,  ..., -8.7473e-03,\n",
            "          5.3188e-02, -4.3811e-02],\n",
            "        [ 4.7101e-02,  4.4231e-02,  3.1085e-02,  ..., -3.1816e-02,\n",
            "          4.2653e-02, -3.4355e-02],\n",
            "        [ 5.4105e-02,  5.9623e-02,  1.2523e-02,  ...,  2.1390e-02,\n",
            "          5.2945e-02,  2.4614e-02],\n",
            "        ...,\n",
            "        [ 1.9432e-02,  4.5919e-02, -2.3956e-02,  ..., -1.0902e-02,\n",
            "         -5.1839e-02, -5.4077e-02],\n",
            "        [-5.4081e-02, -4.5889e-02, -2.3463e-02,  ...,  6.2156e-02,\n",
            "          3.4139e-02,  1.4349e-02],\n",
            "        [-4.8210e-03, -3.5602e-02,  1.3085e-02,  ..., -4.4479e-03,\n",
            "          4.3123e-02, -1.2605e-04]], requires_grad=True)\n",
            "\n",
            "\n",
            "grad : tensor([[0., 0., 0.,  ..., 0., 0., 0.],\n",
            "        [0., 0., 0.,  ..., 0., 0., 0.],\n",
            "        [0., 0., 0.,  ..., 0., 0., 0.],\n",
            "        ...,\n",
            "        [0., 0., 0.,  ..., 0., 0., 0.],\n",
            "        [0., 0., 0.,  ..., 0., 0., 0.],\n",
            "        [0., 0., 0.,  ..., 0., 0., 0.]])\n"
          ],
          "name": "stdout"
        }
      ]
    }
  ]
}