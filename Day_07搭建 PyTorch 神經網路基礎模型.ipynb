{
  "nbformat": 4,
  "nbformat_minor": 0,
  "metadata": {
    "kernelspec": {
      "display_name": "Python 3",
      "language": "python",
      "name": "python3"
    },
    "language_info": {
      "codemirror_mode": {
        "name": "ipython",
        "version": 3
      },
      "file_extension": ".py",
      "mimetype": "text/x-python",
      "name": "python",
      "nbconvert_exporter": "python",
      "pygments_lexer": "ipython3",
      "version": "3.7.4"
    },
    "colab": {
      "name": "Day7 - 作業.ipynb",
      "provenance": []
    }
  },
  "cells": [
    {
      "cell_type": "markdown",
      "metadata": {
        "id": "7CXY-HtdwznG"
      },
      "source": [
        "## 第一部分：了解 nn.Module的基本操作"
      ]
    },
    {
      "cell_type": "code",
      "metadata": {
        "id": "fza10dV8wznJ"
      },
      "source": [
        "import torch\n",
        "import torch.nn as nn\n",
        "import torchvision.models as models\n",
        "import torch.nn.functional as F\n",
        "import numpy as np"
      ],
      "execution_count": 1,
      "outputs": []
    },
    {
      "cell_type": "code",
      "metadata": {
        "id": "sIC8XucswznK"
      },
      "source": [
        "model = models.resnet18()"
      ],
      "execution_count": 2,
      "outputs": []
    },
    {
      "cell_type": "markdown",
      "metadata": {
        "id": "F7u_4PsiwznK"
      },
      "source": [
        "### 打印出 model底下所有 parameters 的 name 以及對應的 shape "
      ]
    },
    {
      "cell_type": "code",
      "metadata": {
        "colab": {
          "base_uri": "https://localhost:8080/"
        },
        "id": "yx2nIdf0zpla",
        "outputId": "0ddda625-deb0-4d71-9071-baf8e8634b43"
      },
      "source": [
        "for name, param in model.named_parameters():\n",
        "    print(name,param.shape)"
      ],
      "execution_count": 3,
      "outputs": [
        {
          "output_type": "stream",
          "text": [
            "conv1.weight torch.Size([64, 3, 7, 7])\n",
            "bn1.weight torch.Size([64])\n",
            "bn1.bias torch.Size([64])\n",
            "layer1.0.conv1.weight torch.Size([64, 64, 3, 3])\n",
            "layer1.0.bn1.weight torch.Size([64])\n",
            "layer1.0.bn1.bias torch.Size([64])\n",
            "layer1.0.conv2.weight torch.Size([64, 64, 3, 3])\n",
            "layer1.0.bn2.weight torch.Size([64])\n",
            "layer1.0.bn2.bias torch.Size([64])\n",
            "layer1.1.conv1.weight torch.Size([64, 64, 3, 3])\n",
            "layer1.1.bn1.weight torch.Size([64])\n",
            "layer1.1.bn1.bias torch.Size([64])\n",
            "layer1.1.conv2.weight torch.Size([64, 64, 3, 3])\n",
            "layer1.1.bn2.weight torch.Size([64])\n",
            "layer1.1.bn2.bias torch.Size([64])\n",
            "layer2.0.conv1.weight torch.Size([128, 64, 3, 3])\n",
            "layer2.0.bn1.weight torch.Size([128])\n",
            "layer2.0.bn1.bias torch.Size([128])\n",
            "layer2.0.conv2.weight torch.Size([128, 128, 3, 3])\n",
            "layer2.0.bn2.weight torch.Size([128])\n",
            "layer2.0.bn2.bias torch.Size([128])\n",
            "layer2.0.downsample.0.weight torch.Size([128, 64, 1, 1])\n",
            "layer2.0.downsample.1.weight torch.Size([128])\n",
            "layer2.0.downsample.1.bias torch.Size([128])\n",
            "layer2.1.conv1.weight torch.Size([128, 128, 3, 3])\n",
            "layer2.1.bn1.weight torch.Size([128])\n",
            "layer2.1.bn1.bias torch.Size([128])\n",
            "layer2.1.conv2.weight torch.Size([128, 128, 3, 3])\n",
            "layer2.1.bn2.weight torch.Size([128])\n",
            "layer2.1.bn2.bias torch.Size([128])\n",
            "layer3.0.conv1.weight torch.Size([256, 128, 3, 3])\n",
            "layer3.0.bn1.weight torch.Size([256])\n",
            "layer3.0.bn1.bias torch.Size([256])\n",
            "layer3.0.conv2.weight torch.Size([256, 256, 3, 3])\n",
            "layer3.0.bn2.weight torch.Size([256])\n",
            "layer3.0.bn2.bias torch.Size([256])\n",
            "layer3.0.downsample.0.weight torch.Size([256, 128, 1, 1])\n",
            "layer3.0.downsample.1.weight torch.Size([256])\n",
            "layer3.0.downsample.1.bias torch.Size([256])\n",
            "layer3.1.conv1.weight torch.Size([256, 256, 3, 3])\n",
            "layer3.1.bn1.weight torch.Size([256])\n",
            "layer3.1.bn1.bias torch.Size([256])\n",
            "layer3.1.conv2.weight torch.Size([256, 256, 3, 3])\n",
            "layer3.1.bn2.weight torch.Size([256])\n",
            "layer3.1.bn2.bias torch.Size([256])\n",
            "layer4.0.conv1.weight torch.Size([512, 256, 3, 3])\n",
            "layer4.0.bn1.weight torch.Size([512])\n",
            "layer4.0.bn1.bias torch.Size([512])\n",
            "layer4.0.conv2.weight torch.Size([512, 512, 3, 3])\n",
            "layer4.0.bn2.weight torch.Size([512])\n",
            "layer4.0.bn2.bias torch.Size([512])\n",
            "layer4.0.downsample.0.weight torch.Size([512, 256, 1, 1])\n",
            "layer4.0.downsample.1.weight torch.Size([512])\n",
            "layer4.0.downsample.1.bias torch.Size([512])\n",
            "layer4.1.conv1.weight torch.Size([512, 512, 3, 3])\n",
            "layer4.1.bn1.weight torch.Size([512])\n",
            "layer4.1.bn1.bias torch.Size([512])\n",
            "layer4.1.conv2.weight torch.Size([512, 512, 3, 3])\n",
            "layer4.1.bn2.weight torch.Size([512])\n",
            "layer4.1.bn2.bias torch.Size([512])\n",
            "fc.weight torch.Size([1000, 512])\n",
            "fc.bias torch.Size([1000])\n"
          ],
          "name": "stdout"
        }
      ]
    },
    {
      "cell_type": "markdown",
      "metadata": {
        "id": "j2C_EGOewznM"
      },
      "source": [
        "### 為了使 forward propagation 加速 並降低 memory 使用量，請將所有 parameters 的requires_grad 關閉，關閉之後執行  forward propagation"
      ]
    },
    {
      "cell_type": "code",
      "metadata": {
        "id": "W5IOe95WwznM"
      },
      "source": [
        "input_ = torch.randn(1, 3, 128, 128)"
      ],
      "execution_count": 4,
      "outputs": []
    },
    {
      "cell_type": "code",
      "metadata": {
        "id": "k3Ac5VpAwznM"
      },
      "source": [
        "for param in model.parameters():\n",
        "    param.requires_grad = False"
      ],
      "execution_count": 5,
      "outputs": []
    },
    {
      "cell_type": "code",
      "metadata": {
        "colab": {
          "base_uri": "https://localhost:8080/"
        },
        "id": "vnzEsxk2wznN",
        "outputId": "70352eb9-1b37-4b3d-dd93-06575f6e9d65"
      },
      "source": [
        "output = model(input_)\n",
        "print(output.shape)"
      ],
      "execution_count": 6,
      "outputs": [
        {
          "output_type": "stream",
          "text": [
            "torch.Size([1, 1000])\n"
          ],
          "name": "stdout"
        },
        {
          "output_type": "stream",
          "text": [
            "/usr/local/lib/python3.7/dist-packages/torch/nn/functional.py:718: UserWarning: Named tensors and all their associated APIs are an experimental feature and subject to change. Please do not use them for anything important until they are released as stable. (Triggered internally at  /pytorch/c10/core/TensorImpl.h:1156.)\n",
            "  return torch.max_pool2d(input, kernel_size, stride, padding, dilation, ceil_mode)\n"
          ],
          "name": "stderr"
        }
      ]
    },
    {
      "cell_type": "markdown",
      "metadata": {
        "id": "4v5QE59KwznN"
      },
      "source": [
        "## 第二部分：依照指令，以較簡潔的方式搭建出模型"
      ]
    },
    {
      "cell_type": "markdown",
      "metadata": {
        "id": "tJNIBGo2wznN"
      },
      "source": [
        "* input_shape = torch.Size([10, 12])\n",
        "* 先經過一層 nn.Linear(12, 10)\n",
        "* 經過10層 nn.Linear(10, 10)\n",
        "* 最後經過 nn.Linear(10, 3) 輸出\n",
        "* 每一個 nn.Linear過完後要先經過 nn.BatchNorm1d 才能到下一層，輸出層不用\n"
      ]
    },
    {
      "cell_type": "code",
      "metadata": {
        "id": "k28zs9xfwznO"
      },
      "source": [
        "input_ = torch.randn(10,12)\n",
        "## 示範\n",
        "Linear = nn.Linear(12,10)\n",
        "BN = nn.BatchNorm1d(10)"
      ],
      "execution_count": 7,
      "outputs": []
    },
    {
      "cell_type": "code",
      "metadata": {
        "id": "JRSalBJ6wznO"
      },
      "source": [
        "class Model(nn.Module):\n",
        "    def __init__(self):\n",
        "        super(Model, self).__init__()\n",
        "        self.Layer1 = nn.Sequential(nn.Linear(12,10),\n",
        "                        nn.BatchNorm1d(10))\n",
        "        self.Layer2 = nn.ModuleList([nn.Sequential(\n",
        "                        nn.Linear(10,10),\n",
        "                        nn.BatchNorm1d(10)) for i in range(10)])\n",
        "        \n",
        "        self.Linear_last = nn.Linear(10,3)       \n",
        "\n",
        "    def forward(self,x):\n",
        "        x = self.Layer1(x)\n",
        "        # ModuleList can act as an iterable, or be indexed using ints\n",
        "        for m in self.Layer2:\n",
        "            x = m(x)\n",
        "        x = F.softmax(self.Linear_last(x), dim=1)\n",
        "        return x"
      ],
      "execution_count": 8,
      "outputs": []
    },
    {
      "cell_type": "code",
      "metadata": {
        "id": "u9peopziwznO"
      },
      "source": [
        "model = Model()"
      ],
      "execution_count": 9,
      "outputs": []
    },
    {
      "cell_type": "code",
      "metadata": {
        "colab": {
          "base_uri": "https://localhost:8080/"
        },
        "id": "uk24LkSULIaS",
        "outputId": "88099b0e-3f56-42a2-d0a7-49c6063a8327"
      },
      "source": [
        "model"
      ],
      "execution_count": 10,
      "outputs": [
        {
          "output_type": "execute_result",
          "data": {
            "text/plain": [
              "Model(\n",
              "  (Layer1): Sequential(\n",
              "    (0): Linear(in_features=12, out_features=10, bias=True)\n",
              "    (1): BatchNorm1d(10, eps=1e-05, momentum=0.1, affine=True, track_running_stats=True)\n",
              "  )\n",
              "  (Layer2): ModuleList(\n",
              "    (0): Sequential(\n",
              "      (0): Linear(in_features=10, out_features=10, bias=True)\n",
              "      (1): BatchNorm1d(10, eps=1e-05, momentum=0.1, affine=True, track_running_stats=True)\n",
              "    )\n",
              "    (1): Sequential(\n",
              "      (0): Linear(in_features=10, out_features=10, bias=True)\n",
              "      (1): BatchNorm1d(10, eps=1e-05, momentum=0.1, affine=True, track_running_stats=True)\n",
              "    )\n",
              "    (2): Sequential(\n",
              "      (0): Linear(in_features=10, out_features=10, bias=True)\n",
              "      (1): BatchNorm1d(10, eps=1e-05, momentum=0.1, affine=True, track_running_stats=True)\n",
              "    )\n",
              "    (3): Sequential(\n",
              "      (0): Linear(in_features=10, out_features=10, bias=True)\n",
              "      (1): BatchNorm1d(10, eps=1e-05, momentum=0.1, affine=True, track_running_stats=True)\n",
              "    )\n",
              "    (4): Sequential(\n",
              "      (0): Linear(in_features=10, out_features=10, bias=True)\n",
              "      (1): BatchNorm1d(10, eps=1e-05, momentum=0.1, affine=True, track_running_stats=True)\n",
              "    )\n",
              "    (5): Sequential(\n",
              "      (0): Linear(in_features=10, out_features=10, bias=True)\n",
              "      (1): BatchNorm1d(10, eps=1e-05, momentum=0.1, affine=True, track_running_stats=True)\n",
              "    )\n",
              "    (6): Sequential(\n",
              "      (0): Linear(in_features=10, out_features=10, bias=True)\n",
              "      (1): BatchNorm1d(10, eps=1e-05, momentum=0.1, affine=True, track_running_stats=True)\n",
              "    )\n",
              "    (7): Sequential(\n",
              "      (0): Linear(in_features=10, out_features=10, bias=True)\n",
              "      (1): BatchNorm1d(10, eps=1e-05, momentum=0.1, affine=True, track_running_stats=True)\n",
              "    )\n",
              "    (8): Sequential(\n",
              "      (0): Linear(in_features=10, out_features=10, bias=True)\n",
              "      (1): BatchNorm1d(10, eps=1e-05, momentum=0.1, affine=True, track_running_stats=True)\n",
              "    )\n",
              "    (9): Sequential(\n",
              "      (0): Linear(in_features=10, out_features=10, bias=True)\n",
              "      (1): BatchNorm1d(10, eps=1e-05, momentum=0.1, affine=True, track_running_stats=True)\n",
              "    )\n",
              "  )\n",
              "  (Linear_last): Linear(in_features=10, out_features=3, bias=True)\n",
              ")"
            ]
          },
          "metadata": {
            "tags": []
          },
          "execution_count": 10
        }
      ]
    },
    {
      "cell_type": "code",
      "metadata": {
        "id": "sEpQWXZRwznP"
      },
      "source": [
        "input_ = torch.randn(10,12)\n",
        "outupt = model(input_)"
      ],
      "execution_count": 11,
      "outputs": []
    },
    {
      "cell_type": "code",
      "metadata": {
        "id": "U37rVJXBwznP",
        "colab": {
          "base_uri": "https://localhost:8080/"
        },
        "outputId": "a669f28f-5509-4822-b978-3ac1c697a7dd"
      },
      "source": [
        "outupt"
      ],
      "execution_count": 12,
      "outputs": [
        {
          "output_type": "execute_result",
          "data": {
            "text/plain": [
              "tensor([[0.2493, 0.3883, 0.3624],\n",
              "        [0.2017, 0.4231, 0.3752],\n",
              "        [0.3199, 0.3361, 0.3440],\n",
              "        [0.2945, 0.2382, 0.4672],\n",
              "        [0.2296, 0.4926, 0.2778],\n",
              "        [0.3177, 0.3198, 0.3624],\n",
              "        [0.1916, 0.1849, 0.6235],\n",
              "        [0.2463, 0.2581, 0.4956],\n",
              "        [0.4309, 0.3189, 0.2502],\n",
              "        [0.2189, 0.4191, 0.3620]], grad_fn=<SoftmaxBackward>)"
            ]
          },
          "metadata": {
            "tags": []
          },
          "execution_count": 12
        }
      ]
    }
  ]
}