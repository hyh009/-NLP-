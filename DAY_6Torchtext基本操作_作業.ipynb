{
  "nbformat": 4,
  "nbformat_minor": 0,
  "metadata": {
    "kernelspec": {
      "display_name": "cupoy_env",
      "language": "python",
      "name": "cupoy_env"
    },
    "language_info": {
      "codemirror_mode": {
        "name": "ipython",
        "version": 3
      },
      "file_extension": ".py",
      "mimetype": "text/x-python",
      "name": "python",
      "nbconvert_exporter": "python",
      "pygments_lexer": "ipython3",
      "version": "3.7.3"
    },
    "colab": {
      "name": "Torchtext基本操作_作業.ipynb",
      "provenance": []
    }
  },
  "cells": [
    {
      "cell_type": "markdown",
      "metadata": {
        "id": "nWSZXXrTXufC"
      },
      "source": [
        "### 作業目的: 熟練以Torchtext進行文本資料讀取\n",
        "\n",
        "本次作業主要會使用[polarity](http://www.cs.cornell.edu/people/pabo/movie-review-data/)的電影評論來進行使用torchtext資料讀取，學員可以在附件的polarity.tsv看到所使用的資料。\n",
        "\n",
        "Hint: 這次作業同學可以嘗試使用[torchtext.data.TabularDataset](https://torchtext.readthedocs.io/en/latest/data.html#tabulardataset)，可以更簡易讀取資料"
      ]
    },
    {
      "cell_type": "markdown",
      "metadata": {
        "id": "TPdRFa4XXufG"
      },
      "source": [
        "### 載入套件"
      ]
    },
    {
      "cell_type": "code",
      "metadata": {
        "colab": {
          "base_uri": "https://localhost:8080/"
        },
        "id": "1d41Dpf_ZyW2",
        "outputId": "2a4960a4-fa69-496e-e33d-01fe39af863a"
      },
      "source": [
        "from google.colab import drive\n",
        "drive.mount('/content/drive')"
      ],
      "execution_count": 1,
      "outputs": [
        {
          "output_type": "stream",
          "text": [
            "Drive already mounted at /content/drive; to attempt to forcibly remount, call drive.mount(\"/content/drive\", force_remount=True).\n"
          ],
          "name": "stdout"
        }
      ]
    },
    {
      "cell_type": "code",
      "metadata": {
        "id": "e7LNP2pgalsW"
      },
      "source": [
        "!pip install torchtext\n",
        "!pip install spacy\n",
        "!python -m spacy download en"
      ],
      "execution_count": null,
      "outputs": []
    },
    {
      "cell_type": "code",
      "metadata": {
        "id": "BiVzSSf-XufG"
      },
      "source": [
        "import torch\n",
        "import pandas as pd\n",
        "import numpy as np\n",
        "from torchtext import datasets\n",
        "from torchtext.legacy import data\n",
        "import re"
      ],
      "execution_count": 3,
      "outputs": []
    },
    {
      "cell_type": "code",
      "metadata": {
        "scrolled": true,
        "colab": {
          "base_uri": "https://localhost:8080/",
          "height": 418
        },
        "id": "dlUkraHoXufH",
        "outputId": "88247423-0934-4546-e48e-9b14c5919ab3"
      },
      "source": [
        "# 探索資料\n",
        "# 可以發現資料為文本與類別，而類別即為正評與負評\n",
        "input_data = pd.read_csv('/content/drive/MyDrive/NLP_DeepLearning/polarity.tsv', delimiter='\\t', header=None, names=['text', 'label'])\n",
        "input_data"
      ],
      "execution_count": 4,
      "outputs": [
        {
          "output_type": "execute_result",
          "data": {
            "text/html": [
              "<div>\n",
              "<style scoped>\n",
              "    .dataframe tbody tr th:only-of-type {\n",
              "        vertical-align: middle;\n",
              "    }\n",
              "\n",
              "    .dataframe tbody tr th {\n",
              "        vertical-align: top;\n",
              "    }\n",
              "\n",
              "    .dataframe thead th {\n",
              "        text-align: right;\n",
              "    }\n",
              "</style>\n",
              "<table border=\"1\" class=\"dataframe\">\n",
              "  <thead>\n",
              "    <tr style=\"text-align: right;\">\n",
              "      <th></th>\n",
              "      <th>text</th>\n",
              "      <th>label</th>\n",
              "    </tr>\n",
              "  </thead>\n",
              "  <tbody>\n",
              "    <tr>\n",
              "      <th>0</th>\n",
              "      <td>films adapted from comic books have had plenty...</td>\n",
              "      <td>1</td>\n",
              "    </tr>\n",
              "    <tr>\n",
              "      <th>1</th>\n",
              "      <td>every now and then a movie comes along from a ...</td>\n",
              "      <td>1</td>\n",
              "    </tr>\n",
              "    <tr>\n",
              "      <th>2</th>\n",
              "      <td>you've got mail works alot better than it dese...</td>\n",
              "      <td>1</td>\n",
              "    </tr>\n",
              "    <tr>\n",
              "      <th>3</th>\n",
              "      <td>jaws  is a rare film that grabs your attentio...</td>\n",
              "      <td>1</td>\n",
              "    </tr>\n",
              "    <tr>\n",
              "      <th>4</th>\n",
              "      <td>moviemaking is a lot like being the general ma...</td>\n",
              "      <td>1</td>\n",
              "    </tr>\n",
              "    <tr>\n",
              "      <th>...</th>\n",
              "      <td>...</td>\n",
              "      <td>...</td>\n",
              "    </tr>\n",
              "    <tr>\n",
              "      <th>1995</th>\n",
              "      <td>if anything , \" stigmata \" should be taken as ...</td>\n",
              "      <td>0</td>\n",
              "    </tr>\n",
              "    <tr>\n",
              "      <th>1996</th>\n",
              "      <td>john boorman's \" zardoz \" is a goofy cinematic...</td>\n",
              "      <td>0</td>\n",
              "    </tr>\n",
              "    <tr>\n",
              "      <th>1997</th>\n",
              "      <td>the kids in the hall are an acquired taste .it...</td>\n",
              "      <td>0</td>\n",
              "    </tr>\n",
              "    <tr>\n",
              "      <th>1998</th>\n",
              "      <td>there was a time when john carpenter was a gre...</td>\n",
              "      <td>0</td>\n",
              "    </tr>\n",
              "    <tr>\n",
              "      <th>1999</th>\n",
              "      <td>two party guys bob their heads to haddaway's d...</td>\n",
              "      <td>0</td>\n",
              "    </tr>\n",
              "  </tbody>\n",
              "</table>\n",
              "<p>2000 rows × 2 columns</p>\n",
              "</div>"
            ],
            "text/plain": [
              "                                                   text  label\n",
              "0     films adapted from comic books have had plenty...      1\n",
              "1     every now and then a movie comes along from a ...      1\n",
              "2     you've got mail works alot better than it dese...      1\n",
              "3      jaws  is a rare film that grabs your attentio...      1\n",
              "4     moviemaking is a lot like being the general ma...      1\n",
              "...                                                 ...    ...\n",
              "1995  if anything , \" stigmata \" should be taken as ...      0\n",
              "1996  john boorman's \" zardoz \" is a goofy cinematic...      0\n",
              "1997  the kids in the hall are an acquired taste .it...      0\n",
              "1998  there was a time when john carpenter was a gre...      0\n",
              "1999  two party guys bob their heads to haddaway's d...      0\n",
              "\n",
              "[2000 rows x 2 columns]"
            ]
          },
          "metadata": {
            "tags": []
          },
          "execution_count": 4
        }
      ]
    },
    {
      "cell_type": "markdown",
      "metadata": {
        "id": "0pAcAsK5XufI"
      },
      "source": [
        "### 建立Pipeline生成資料 "
      ]
    },
    {
      "cell_type": "markdown",
      "metadata": {
        "id": "ZTbRXLegbAck"
      },
      "source": [
        "定義前處理函式&建立text&label的Field"
      ]
    },
    {
      "cell_type": "code",
      "metadata": {
        "id": "z_gSyZD1K01a"
      },
      "source": [
        "# preprocessing\n",
        "def remove_non_char(text):\n",
        "  text = [re.sub('[^A-Za-z]','',word) for word in text if len(re.sub('[^A-Za-z]','',word))>2]\n",
        "  return text"
      ],
      "execution_count": 5,
      "outputs": []
    },
    {
      "cell_type": "code",
      "metadata": {
        "id": "96DYgMdtXufI"
      },
      "source": [
        "# 建立Field與Dataset\n",
        "### <your code> ###\n",
        "text_field = data.Field(sequential=True,dtype=torch.float64,lower=True,tokenize='spacy',preprocessing=remove_non_char)\n",
        "label_field = data.Field(sequential=False,use_vocab=False)\n",
        "fields = {'text':('t',text_field),'label':('l',label_field)}"
      ],
      "execution_count": 6,
      "outputs": []
    },
    {
      "cell_type": "markdown",
      "metadata": {
        "id": "Jloa-FpOMUC-"
      },
      "source": [
        "###方法1"
      ]
    },
    {
      "cell_type": "markdown",
      "metadata": {
        "id": "I_QB1qDnbG_9"
      },
      "source": [
        "建立examples再創建dataset&字典<br>\n",
        "data.Example.fromlist()<br>\n",
        "data.Dataset()<br>\n",
        "data.Iterator(): 需加入sort_key才能減少padding<br> "
      ]
    },
    {
      "cell_type": "code",
      "metadata": {
        "scrolled": true,
        "id": "ifqd7KacXufI"
      },
      "source": [
        "# 取得examples並打亂順序\n",
        "### <your code> ###\n",
        "input_data = input_data.sample(frac=1)\n",
        "examples=[]\n",
        "for (text,label) in input_data.itertuples(index=False):\n",
        "  examples.append(data.Example.fromlist(data = [text,label],\n",
        "                    fields = [('text',text_field),('label',label_field)]))\n",
        "\n",
        "# 以8:2的比例切分examples\n",
        "### <your code> ###\n",
        "train_ex = examples[:int(len(examples)*0.8)]\n",
        "test_ex = examples[int(len(examples)*0.8):]\n",
        "# 建立training與testing dataset\n",
        "### <your code> ###\n",
        "train_data = data.Dataset(examples=train_ex, fields={'text':text_field, 'label':label_field})\n",
        "test_data = data.Dataset(examples=test_ex, fields={'text':text_field, 'label':label_field})\n",
        "#{'text':text_field, 'label':label_field}\n",
        "\n",
        "train_data[0].label, train_data[0].text"
      ],
      "execution_count": null,
      "outputs": []
    },
    {
      "cell_type": "code",
      "metadata": {
        "id": "DhCi2qJ9XYi0"
      },
      "source": [
        "# 建立字典\n",
        "### <your code> ###\n",
        "text_field.build_vocab(train_data)\n",
        "print(f\"Vocabularies of index 0-5: {text_field.vocab.itos[:10]} \\n\")\n",
        "print(f\"words to index {text_field.vocab.stoi}\")"
      ],
      "execution_count": null,
      "outputs": []
    },
    {
      "cell_type": "code",
      "metadata": {
        "id": "-fbr2qVLXufK"
      },
      "source": [
        "# create iterator for training and testing data\n",
        "train_iter = data.Iterator(dataset=train_data,\n",
        "                    batch_size=4,\n",
        "                    repeat=False,\n",
        "                    sort_key=lambda x:len(x.text))"
      ],
      "execution_count": 9,
      "outputs": []
    },
    {
      "cell_type": "code",
      "metadata": {
        "colab": {
          "base_uri": "https://localhost:8080/"
        },
        "id": "seGT5XzUXWfm",
        "outputId": "a8b2a772-71e0-4e4d-9714-4cd75725fb2e"
      },
      "source": [
        "for train_batch in train_iter:\n",
        "    print(train_batch.text, train_batch.text.shape)\n",
        "    print(train_batch.label, train_batch.label.shape)\n",
        "    break"
      ],
      "execution_count": 10,
      "outputs": [
        {
          "output_type": "stream",
          "text": [
            "tensor([[4.3900e+02, 1.0000e+02, 9.5000e+01, 1.1730e+03],\n",
            "        [2.0000e+00, 2.0000e+00, 1.5680e+03, 3.0200e+02],\n",
            "        [2.1360e+03, 3.0500e+02, 4.9130e+03, 1.4820e+03],\n",
            "        ...,\n",
            "        [9.0000e+00, 1.0000e+00, 1.0000e+00, 1.0000e+00],\n",
            "        [1.2000e+01, 1.0000e+00, 1.0000e+00, 1.0000e+00],\n",
            "        [6.2380e+03, 1.0000e+00, 1.0000e+00, 1.0000e+00]], dtype=torch.float64) torch.Size([635, 4])\n",
            "tensor([0, 1, 0, 0]) torch.Size([4])\n"
          ],
          "name": "stdout"
        }
      ]
    },
    {
      "cell_type": "markdown",
      "metadata": {
        "id": "r8F_iPeCLtud"
      },
      "source": [
        "###方法2"
      ]
    },
    {
      "cell_type": "markdown",
      "metadata": {
        "id": "q012bbaclQgU"
      },
      "source": [
        "data.TabularDataset()<br>\n",
        "data.BucketIterator(): Defines an iterator that batches examples of similar lengths together."
      ]
    },
    {
      "cell_type": "code",
      "metadata": {
        "id": "gRNofgyvEokw"
      },
      "source": [
        "input_data = data.TabularDataset(path='/content/drive/MyDrive/NLP_DeepLearning/polarity.tsv', \n",
        "              format='tsv',\n",
        "              fields=[('text', text_field), ('label', label_field)])\n",
        "Train_data, Test_data = input_data.split(split_ratio=0.8)\n",
        "Train_data[0].label, Train_data[0].text"
      ],
      "execution_count": null,
      "outputs": []
    },
    {
      "cell_type": "code",
      "metadata": {
        "id": "yja71ThvXufJ"
      },
      "source": [
        "# 建立字典\n",
        "### <your code> ###\n",
        "text_field.build_vocab(Train_data)\n",
        "print(f\"Vocabularies of index 0-5: {text_field.vocab.itos[:10]} \\n\")\n",
        "print(f\"words to index {text_field.vocab.stoi}\")"
      ],
      "execution_count": null,
      "outputs": []
    },
    {
      "cell_type": "code",
      "metadata": {
        "id": "4kpRHvPRW1Ib"
      },
      "source": [
        "Train_iterator, Test_iterator = data.BucketIterator.splits((Train_data,Test_data),batch_size=4)"
      ],
      "execution_count": 14,
      "outputs": []
    },
    {
      "cell_type": "code",
      "metadata": {
        "colab": {
          "base_uri": "https://localhost:8080/"
        },
        "id": "w1i9S5BLXHGq",
        "outputId": "62a86c9c-2c43-46fd-c2ea-2dd0822cd76a"
      },
      "source": [
        "for train_batch in Train_iterator:\n",
        "    print(train_batch.text, train_batch.text.shape)\n",
        "    print(train_batch.label, train_batch.label.shape)\n",
        "    break"
      ],
      "execution_count": 15,
      "outputs": [
        {
          "output_type": "stream",
          "text": [
            "tensor([[1.6610e+03, 2.7322e+04, 5.0000e+00, 1.7400e+02],\n",
            "        [1.4000e+02, 7.0600e+02, 9.2000e+01, 8.3600e+02],\n",
            "        [9.9200e+02, 4.5900e+02, 1.0900e+02, 1.4580e+03],\n",
            "        ...,\n",
            "        [1.0000e+00, 1.0000e+00, 1.0000e+00, 2.8000e+01],\n",
            "        [1.0000e+00, 1.0000e+00, 1.0000e+00, 4.1000e+01],\n",
            "        [1.0000e+00, 1.0000e+00, 1.0000e+00, 2.0400e+02]], dtype=torch.float64) torch.Size([1508, 4])\n",
            "tensor([0, 0, 1, 1]) torch.Size([4])\n"
          ],
          "name": "stdout"
        }
      ]
    }
  ]
}