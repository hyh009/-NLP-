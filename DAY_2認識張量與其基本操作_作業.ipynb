{
  "nbformat": 4,
  "nbformat_minor": 0,
  "metadata": {
    "kernelspec": {
      "display_name": "pytorch_env",
      "language": "python",
      "name": "pytorch_env"
    },
    "language_info": {
      "codemirror_mode": {
        "name": "ipython",
        "version": 3
      },
      "file_extension": ".py",
      "mimetype": "text/x-python",
      "name": "python",
      "nbconvert_exporter": "python",
      "pygments_lexer": "ipython3",
      "version": "3.7.3"
    },
    "colab": {
      "name": "認識張量與其基本操作_作業.ipynb",
      "provenance": []
    }
  },
  "cells": [
    {
      "cell_type": "markdown",
      "metadata": {
        "id": "UJA6vs2WjuG7"
      },
      "source": [
        "### 作業目的: 更加熟習pytorch的tensor操作\n",
        "\n",
        "pytorch中有提供很多的API，讓使用者針對tensor進行各式各樣的操作，本次的作業希望讀者由pytorch的[官方網站](https://pytorch.org/docs/stable/torch.html)中選定四個針對tensor操作的API，對他的使用方法進行範例操作演練。"
      ]
    },
    {
      "cell_type": "markdown",
      "metadata": {
        "id": "x5JuvAVJjuHB"
      },
      "source": [
        "### 選定的API 函數\n",
        "\n",
        "**請寫下選定的API functions**\n",
        "\n",
        "ex:\n",
        "* torch.from_array() / tensor.numpy()\n",
        "* torch.unsqueeze() / torch.squeeze()\n",
        "* tensor.transpose() / tensor.permute()\n",
        "* torch.reshape() / tensor.view()"
      ]
    },
    {
      "cell_type": "code",
      "metadata": {
        "id": "x-0_kTvOjuHD"
      },
      "source": [
        "# Import torch and other required modules\n",
        "import torch\n",
        "import numpy as np"
      ],
      "execution_count": 1,
      "outputs": []
    },
    {
      "cell_type": "markdown",
      "metadata": {
        "id": "cAv_yBs1juHE"
      },
      "source": [
        "### 範例:\n",
        "### Function 1 - torch.from_array() / tensor.numpy()"
      ]
    },
    {
      "cell_type": "code",
      "metadata": {
        "id": "FHNZTpn5juHF",
        "colab": {
          "base_uri": "https://localhost:8080/"
        },
        "outputId": "18f64d3b-74d6-4fe9-a6fd-14e490ce3c5e"
      },
      "source": [
        "# Example 1 - 將torch tensor與numpy ndarray互相轉換\n",
        "a = np.random.rand(1,2,3,3)\n",
        "print(f'a: {type(a)}, {a.dtype}')\n",
        "b = torch.from_numpy(a)\n",
        "print(f'b: {type(b)}, {b.dtype}')\n",
        "c = torch.tensor(a)\n",
        "print(f'c: {type(c)}, {c.dtype}')\n",
        "d = c.numpy()\n",
        "print(f'd: {type(d)}, {d.dtype}')"
      ],
      "execution_count": 2,
      "outputs": [
        {
          "output_type": "stream",
          "text": [
            "a: <class 'numpy.ndarray'>, float64\n",
            "b: <class 'torch.Tensor'>, torch.float64\n",
            "c: <class 'torch.Tensor'>, torch.float64\n",
            "d: <class 'numpy.ndarray'>, float64\n"
          ],
          "name": "stdout"
        }
      ]
    },
    {
      "cell_type": "code",
      "metadata": {
        "id": "MsCKHN7ujuHI",
        "colab": {
          "base_uri": "https://localhost:8080/"
        },
        "outputId": "be1a44b6-8ced-48dd-d105-790f7621b98f"
      },
      "source": [
        "# Example 2 - 經過轉換後，torch tensor與numpy array依然有相近的資料型態\n",
        "a = np.random.randint(low=0, high=10, size=(2,2))\n",
        "print(f'a: {type(a)}, {a.dtype}')\n",
        "b = torch.from_numpy(a)\n",
        "print(f'b: {type(b)}, {b.dtype}')\n",
        "c = torch.tensor(a)\n",
        "print(f'c: {type(c)}, {c.dtype}')\n",
        "d = c.numpy()\n",
        "print(f'd: {type(d)}, {d.dtype}')"
      ],
      "execution_count": 3,
      "outputs": [
        {
          "output_type": "stream",
          "text": [
            "a: <class 'numpy.ndarray'>, int64\n",
            "b: <class 'torch.Tensor'>, torch.int64\n",
            "c: <class 'torch.Tensor'>, torch.int64\n",
            "d: <class 'numpy.ndarray'>, int64\n"
          ],
          "name": "stdout"
        }
      ]
    },
    {
      "cell_type": "markdown",
      "metadata": {
        "id": "wijfTWZYjuHJ"
      },
      "source": [
        "### Function 1 - torch.cat(tensors, dim=0) / torch.stack(tensors, dim=0)"
      ]
    },
    {
      "cell_type": "code",
      "metadata": {
        "id": "yE9qWevyjuHK",
        "colab": {
          "base_uri": "https://localhost:8080/"
        },
        "outputId": "b6a1c1ab-6636-4f4e-95e8-898204396a2b"
      },
      "source": [
        "# torch.cat(tensors, dim=0)\n",
        "# Example 1 - 合併Tensor，但合併的Tensor必須為相同形狀(除了合併的那個dimension)或是empty。\n",
        "### your code ###\n",
        "a = torch.randn(1,2)\n",
        "print(f'Original tensor:\\n {a}')\n",
        "print(f'◆Shape of original tensor1: {a.shape}')\n",
        "b = torch.cat((a, a, a), 0)\n",
        "print(f'Concat dim->0:\\n {b}')\n",
        "print(f'◆Shape of tensor after cat() dim=0: {b.shape}')\n",
        "c = torch.cat((a, a, a), 1)\n",
        "print(f'Concat dim->1:\\n {c}')\n",
        "print(f'◆Shape of tensor after cat() dim=0: {c.shape}')"
      ],
      "execution_count": 4,
      "outputs": [
        {
          "output_type": "stream",
          "text": [
            "Original tensor:\n",
            " tensor([[0.3542, 0.4953]])\n",
            "◆Shape of original tensor1: torch.Size([1, 2])\n",
            "Concat dim->0:\n",
            " tensor([[0.3542, 0.4953],\n",
            "        [0.3542, 0.4953],\n",
            "        [0.3542, 0.4953]])\n",
            "◆Shape of tensor after cat() dim=0: torch.Size([3, 2])\n",
            "Concat dim->1:\n",
            " tensor([[0.3542, 0.4953, 0.3542, 0.4953, 0.3542, 0.4953]])\n",
            "◆Shape of tensor after cat() dim=0: torch.Size([1, 6])\n"
          ],
          "name": "stdout"
        }
      ]
    },
    {
      "cell_type": "code",
      "metadata": {
        "colab": {
          "base_uri": "https://localhost:8080/"
        },
        "id": "zuhH6PxzILhB",
        "outputId": "f287b10c-40f5-40c0-9e43-a9ccb70f5848"
      },
      "source": [
        "# 承上 => 例如: shape(1,3,5)和shpae(2,3,5)的2個Tensor可以合併dimension0 但不能合併dimension1\n",
        "a = torch.randn(1,3,5)\n",
        "print(f'Original tensor1:\\n {a}')\n",
        "print(f'◆Shape of original tensor1: {a.shape}')\n",
        "b = torch.randn(2,3,5)\n",
        "print(f'Original tensor2:\\n {b}')\n",
        "print(f'◆Shape of original tensor2: {b.shape}')\n",
        "c = torch.cat((a, b), 0)\n",
        "print(f'Concat dim->0:\\n {c}')\n",
        "print(f'◆Shape of tensor after cat() dim=0: {c.shape}')\n",
        "try: d = torch.cat((a, b), 1)\n",
        "except Exception as e: print(f'Concat dim ->1\\n Error message: {e}')"
      ],
      "execution_count": 5,
      "outputs": [
        {
          "output_type": "stream",
          "text": [
            "Original tensor1:\n",
            " tensor([[[ 0.5765,  0.3781,  0.7032,  0.3400,  1.0599],\n",
            "         [-1.4289, -0.7743,  0.8325,  0.8499, -0.7492],\n",
            "         [-0.1380, -0.2362,  1.8566, -0.1963,  0.4311]]])\n",
            "◆Shape of original tensor1: torch.Size([1, 3, 5])\n",
            "Original tensor2:\n",
            " tensor([[[-0.7602, -0.3037,  0.1338, -0.1680,  1.8010],\n",
            "         [-1.7394,  0.7480, -2.9513,  0.9913, -0.6229],\n",
            "         [ 0.0454, -0.3075, -1.6401,  0.6066, -1.0998]],\n",
            "\n",
            "        [[ 0.6775, -0.8165, -1.0642,  0.8013,  0.8673],\n",
            "         [-0.2965,  0.2279,  1.3807, -1.8515, -0.9649],\n",
            "         [-0.4719, -0.1443,  1.4199,  0.7546, -2.3395]]])\n",
            "◆Shape of original tensor2: torch.Size([2, 3, 5])\n",
            "Concat dim->0:\n",
            " tensor([[[ 0.5765,  0.3781,  0.7032,  0.3400,  1.0599],\n",
            "         [-1.4289, -0.7743,  0.8325,  0.8499, -0.7492],\n",
            "         [-0.1380, -0.2362,  1.8566, -0.1963,  0.4311]],\n",
            "\n",
            "        [[-0.7602, -0.3037,  0.1338, -0.1680,  1.8010],\n",
            "         [-1.7394,  0.7480, -2.9513,  0.9913, -0.6229],\n",
            "         [ 0.0454, -0.3075, -1.6401,  0.6066, -1.0998]],\n",
            "\n",
            "        [[ 0.6775, -0.8165, -1.0642,  0.8013,  0.8673],\n",
            "         [-0.2965,  0.2279,  1.3807, -1.8515, -0.9649],\n",
            "         [-0.4719, -0.1443,  1.4199,  0.7546, -2.3395]]])\n",
            "◆Shape of tensor after cat() dim=0: torch.Size([3, 3, 5])\n",
            "Concat dim ->1\n",
            " Error message: Sizes of tensors must match except in dimension 1. Got 1 and 2 in dimension 0 (The offending index is 1)\n"
          ],
          "name": "stdout"
        }
      ]
    },
    {
      "cell_type": "code",
      "metadata": {
        "id": "CGhHD_zCjuHN",
        "colab": {
          "base_uri": "https://localhost:8080/"
        },
        "outputId": "197207a0-4c5f-4874-dadd-9084d23aef23"
      },
      "source": [
        "# torch.stack(tensors, dim=0)\n",
        "# Example 2 - 產生一個維度(dimention)來合併Tensor => (增加新的維度進行堆疊)\n",
        "# 新生成的Tensor的維度會是原本的Tensor的維度+1\n",
        "# 所有要stack的Tesnsor都必須是相同形狀\n",
        "# parameter-dim 指定生成的維度位置 (設定parameter-dim時，值不能超過新Tensor維度-1(index))\n",
        "### your code ###\n",
        "a = torch.randn(2,5)\n",
        "b = torch.randn(2,5)\n",
        "print(f'◆Shape of original tensor1&2: {a.shape}')\n",
        "c = torch.stack((a,b,a),0)\n",
        "print(f'◆Shape of tensor after stack() dim=0: {c.shape}')\n",
        "c1 = torch.stack((a,b,a),1)\n",
        "print(f'◆Shape of tensor after stack() dim=0: {c1.shape}')\n",
        "c2 = torch.stack((a,b,a),2)\n",
        "print(f'◆Shape of tensor after stack() dim=0: {c2.shape}')\n",
        "try: torch.stack((a,b,a),3)\n",
        "except Exception as e: print(e)"
      ],
      "execution_count": 6,
      "outputs": [
        {
          "output_type": "stream",
          "text": [
            "◆Shape of original tensor1&2: torch.Size([2, 5])\n",
            "◆Shape of tensor after stack() dim=0: torch.Size([3, 2, 5])\n",
            "◆Shape of tensor after stack() dim=0: torch.Size([2, 3, 5])\n",
            "◆Shape of tensor after stack() dim=0: torch.Size([2, 5, 3])\n",
            "Dimension out of range (expected to be in range of [-3, 2], but got 3)\n"
          ],
          "name": "stdout"
        }
      ]
    },
    {
      "cell_type": "markdown",
      "metadata": {
        "id": "Y1KgQX-pjuHM"
      },
      "source": [
        "### Function 2 - torch.chunk(input, chunks, dim=0) / torch.split(tensor, split_size_or_sections, dim=0)"
      ]
    },
    {
      "cell_type": "code",
      "metadata": {
        "id": "ecaRzDaZjuHM",
        "colab": {
          "base_uri": "https://localhost:8080/"
        },
        "outputId": "a298fddc-04c1-4a60-f7da-28afd31748bb"
      },
      "source": [
        "# torch.chunk(input, chunks, dim=0) \n",
        "# Example 1 - 將Tensor分成數個Tensor(可指定分割大小、維度)，返回Tuple\n",
        "# parameter-chunks 為一個整數，指定要將Tensor分成幾等份(會平等切分，但形狀不符合時chunk_size會不一樣)\n",
        "### your code ###\n",
        "a = torch.randn(5,2)\n",
        "print(f'Original tensor:\\n {a}')\n",
        "print(f'◆Shape of original tensor: {a.shape}')\n",
        "b = torch.chunk(a, 2)\n",
        "print(f'Original tensor was cut into {len(b)} chunks')\n",
        "print(f'◆Shape of the first tensor in the tuple(after splited): {b[0].shape}')\n",
        "print(f'◆Shape of the last tensor in the tuple(after splited): {b[-1].shape}')"
      ],
      "execution_count": 7,
      "outputs": [
        {
          "output_type": "stream",
          "text": [
            "Original tensor:\n",
            " tensor([[-0.6664,  0.1594],\n",
            "        [ 0.7987,  0.1172],\n",
            "        [-1.4232,  0.6353],\n",
            "        [-0.3045,  1.1243],\n",
            "        [-1.4253,  0.4967]])\n",
            "◆Shape of original tensor: torch.Size([5, 2])\n",
            "Original tensor was cut into 2 chunks\n",
            "◆Shape of the first tensor in the tuple(after splited): torch.Size([3, 2])\n",
            "◆Shape of the last tensor in the tuple(after splited): torch.Size([2, 2])\n"
          ],
          "name": "stdout"
        }
      ]
    },
    {
      "cell_type": "code",
      "metadata": {
        "id": "8aJ0Av9djuHL",
        "colab": {
          "base_uri": "https://localhost:8080/"
        },
        "outputId": "1e67424b-3f14-4181-bc60-e485120a6018"
      },
      "source": [
        "# torch.split(tensor, split_size_or_sections, dim=0)\n",
        "# Example 2 - 將Tensor分成數個Tensor(可指定分割大小、維度)，返回Tuple\n",
        "# split_size_or_sections (int) or (list(int)) – 可以為一個整數來指定chunk的大小(會平等切分，但形狀不符合時最後一個chunk_size會不一樣)，也可以是一個整數列表指定分割的方式 \n",
        "### your code ###\n",
        "a = torch.randn(5,2)\n",
        "print(f'Original tensor:\\n {a}')\n",
        "print(f'◆Shape of original tensor: {a.shape}')\n",
        "b = torch.split(a, 2)\n",
        "print(f'Original tensor was cut into {len(b)} chunks')\n",
        "print(f'◆Shape of the first tensor in the tuple(after splited): {b[0].shape}')\n",
        "print(f'◆Shape of the last tensor in the tuple(after splited): {b[-1].shape}')"
      ],
      "execution_count": 8,
      "outputs": [
        {
          "output_type": "stream",
          "text": [
            "Original tensor:\n",
            " tensor([[-0.5109, -0.8908],\n",
            "        [-1.8915,  0.8386],\n",
            "        [-0.3213,  0.5473],\n",
            "        [-0.3586,  1.6448],\n",
            "        [-0.1579, -0.5278]])\n",
            "◆Shape of original tensor: torch.Size([5, 2])\n",
            "Original tensor was cut into 3 chunks\n",
            "◆Shape of the first tensor in the tuple(after splited): torch.Size([2, 2])\n",
            "◆Shape of the last tensor in the tuple(after splited): torch.Size([1, 2])\n"
          ],
          "name": "stdout"
        }
      ]
    },
    {
      "cell_type": "markdown",
      "metadata": {
        "id": "zr2JY1G1juHO"
      },
      "source": [
        "### Function 3 - torch.vstack(tensors) / torch.hstack(tensors) "
      ]
    },
    {
      "cell_type": "code",
      "metadata": {
        "id": "fSboDi3WjuHO",
        "colab": {
          "base_uri": "https://localhost:8080/"
        },
        "outputId": "beb80970-90e2-43eb-95f1-ec18613f30c4"
      },
      "source": [
        "# torch.vstack(tensors)\n",
        "# Example 1 - 將Tensors垂直(row wise)堆疊\n",
        "# column_size需相同\n",
        "### your code ###\n",
        "a = torch.randn(2,3)\n",
        "print(f'Original tensor1:\\n {a}')\n",
        "b = torch.randn(4,3)\n",
        "print(f'Original tensor1:\\n {b}')\n",
        "c = torch.vstack((a,b))\n",
        "print(f'New tensor after vstack:\\n {c}')\n",
        "print(f'◆Shape of the new tensor: {c.shape}')"
      ],
      "execution_count": 9,
      "outputs": [
        {
          "output_type": "stream",
          "text": [
            "Original tensor1:\n",
            " tensor([[ 0.3618, -1.2087,  1.7439],\n",
            "        [ 0.4061, -1.5153,  0.9452]])\n",
            "Original tensor1:\n",
            " tensor([[-0.0776,  1.3922, -0.5062],\n",
            "        [ 0.4406, -0.3946,  0.5017],\n",
            "        [-1.4538, -0.1910,  0.7054],\n",
            "        [-0.7925, -0.6989,  1.7084]])\n",
            "New tensor after vstack:\n",
            " tensor([[ 0.3618, -1.2087,  1.7439],\n",
            "        [ 0.4061, -1.5153,  0.9452],\n",
            "        [-0.0776,  1.3922, -0.5062],\n",
            "        [ 0.4406, -0.3946,  0.5017],\n",
            "        [-1.4538, -0.1910,  0.7054],\n",
            "        [-0.7925, -0.6989,  1.7084]])\n",
            "◆Shape of the new tensor: torch.Size([6, 3])\n"
          ],
          "name": "stdout"
        }
      ]
    },
    {
      "cell_type": "code",
      "metadata": {
        "id": "_YBMo2DvjuHP",
        "colab": {
          "base_uri": "https://localhost:8080/"
        },
        "outputId": "3687edfc-5743-4161-97ef-7c89c6fc3657"
      },
      "source": [
        "# torch.hstack(tensors)\n",
        "# Example 1 - 將Tensors水平(column wise)堆疊\n",
        "# row_size需相同\n",
        "### your code ###\n",
        "a = torch.randn(4,1)\n",
        "print(f'Original tensor1:\\n {a}')\n",
        "b = torch.randn(4,3)\n",
        "print(f'Original tensor1:\\n {b}')\n",
        "c = torch.hstack((a,b))\n",
        "print(f'New tensor after vstack:\\n {c}')\n",
        "print(f'◆Shape of the new tensor: {c.shape}')"
      ],
      "execution_count": 10,
      "outputs": [
        {
          "output_type": "stream",
          "text": [
            "Original tensor1:\n",
            " tensor([[-0.0700],\n",
            "        [ 1.5725],\n",
            "        [-0.4432],\n",
            "        [-0.3291]])\n",
            "Original tensor1:\n",
            " tensor([[-0.3082,  0.7533, -0.0889],\n",
            "        [ 0.2970, -1.8399, -1.0290],\n",
            "        [ 0.4488, -0.6088,  0.4160],\n",
            "        [-2.4889,  0.6922, -0.0626]])\n",
            "New tensor after vstack:\n",
            " tensor([[-0.0700, -0.3082,  0.7533, -0.0889],\n",
            "        [ 1.5725,  0.2970, -1.8399, -1.0290],\n",
            "        [-0.4432,  0.4488, -0.6088,  0.4160],\n",
            "        [-0.3291, -2.4889,  0.6922, -0.0626]])\n",
            "◆Shape of the new tensor: torch.Size([4, 4])\n"
          ],
          "name": "stdout"
        }
      ]
    },
    {
      "cell_type": "markdown",
      "metadata": {
        "id": "mv-A_lsjjuHP"
      },
      "source": [
        "### Function 4 - torch.full(size, fill_value) / torch.where(condition, x, y)\n",
        "\n"
      ]
    },
    {
      "cell_type": "code",
      "metadata": {
        "id": "GMvoJ05jjuHQ",
        "colab": {
          "base_uri": "https://localhost:8080/"
        },
        "outputId": "84574d62-29fa-4559-ba6d-05b9dd5484c9"
      },
      "source": [
        "# torch.full(size, fill_value)\n",
        "# Example 1 - 給定size和fill_value產生一個全部值為fill_value的Tensor\n",
        "### your code ###\n",
        "a = torch.full((2, 3), 3.141592)\n",
        "print(f'◆tensor:\\n {a}')\n"
      ],
      "execution_count": 11,
      "outputs": [
        {
          "output_type": "stream",
          "text": [
            "◆tensor:\n",
            " tensor([[3.1416, 3.1416, 3.1416],\n",
            "        [3.1416, 3.1416, 3.1416]])\n"
          ],
          "name": "stdout"
        }
      ]
    },
    {
      "cell_type": "code",
      "metadata": {
        "id": "PUnlBEL0juHQ",
        "colab": {
          "base_uri": "https://localhost:8080/"
        },
        "outputId": "e3e72258-52e2-42db-d1f7-3ecd71b8f730"
      },
      "source": [
        "# torch.where(condition, x, y)\n",
        "# Example 2 - 給定一個條件&1~2個Tensors，返回一個根據條件產生的新Tensor。\n",
        "# condition(BoolTensor) -> 給定一個條件，若True返回x，若False返回y\n",
        "# x -> (Tensor or Scalar) 可為數值或Tensor，若不滿足condition時返回scalar value或對應位置的Tensor value\n",
        "# y -> (Tensor or Scalar) 可為數值或Tensor，若不滿足condition時返回scalar value或對應位置的Tensor value\n",
        "### your code ###\n",
        "x = torch.randn(2, 2,dtype=torch.double)\n",
        "y = torch.randn(2, 2,dtype=torch.double)\n",
        "print(f'Original tensor1:\\n {x}')\n",
        "print(f'Original tensor2:\\n {y}')\n",
        "a = torch.where(x > 0, x, 0.) # tensor1:大於0的部分維持，小於0的部分則為0\n",
        "b = torch.where(x > 0, x, y) #. tensor2:大於0的部分維持，小於0的部分則為y\n",
        "c = torch.where(x > 0, 1., y) # tensor3:大於0的部分為1，小於0的部分則為y\n",
        "print(f'New tensor1:\\n {a}')\n",
        "print(f'New tensor2:\\n {b}')\n",
        "print(f'New tensor3:\\n {c}')"
      ],
      "execution_count": 12,
      "outputs": [
        {
          "output_type": "stream",
          "text": [
            "Original tensor1:\n",
            " tensor([[ 0.4317,  1.3663],\n",
            "        [ 1.4299, -0.5986]], dtype=torch.float64)\n",
            "Original tensor2:\n",
            " tensor([[-1.8131,  0.6613],\n",
            "        [-0.4872,  0.0139]], dtype=torch.float64)\n",
            "New tensor1:\n",
            " tensor([[0.4317, 1.3663],\n",
            "        [1.4299, 0.0000]], dtype=torch.float64)\n",
            "New tensor2:\n",
            " tensor([[0.4317, 1.3663],\n",
            "        [1.4299, 0.0139]], dtype=torch.float64)\n",
            "New tensor3:\n",
            " tensor([[1.0000, 1.0000],\n",
            "        [1.0000, 0.0139]], dtype=torch.float64)\n"
          ],
          "name": "stdout"
        }
      ]
    },
    {
      "cell_type": "code",
      "metadata": {
        "id": "iy8qW3EQjuHR"
      },
      "source": [
        ""
      ],
      "execution_count": 12,
      "outputs": []
    }
  ]
}