{
  "nbformat": 4,
  "nbformat_minor": 0,
  "metadata": {
    "kernelspec": {
      "display_name": "Python 3",
      "language": "python",
      "name": "python3"
    },
    "language_info": {
      "codemirror_mode": {
        "name": "ipython",
        "version": 3
      },
      "file_extension": ".py",
      "mimetype": "text/x-python",
      "name": "python",
      "nbconvert_exporter": "python",
      "pygments_lexer": "ipython3",
      "version": "3.7.4"
    },
    "colab": {
      "name": "Day8_作業.ipynb",
      "provenance": []
    }
  },
  "cells": [
    {
      "cell_type": "code",
      "metadata": {
        "id": "tC8BxluwexTG"
      },
      "source": [
        "import torch\n",
        "import torch.nn as nn\n",
        "import torchvision.models as models\n",
        "import torch.nn.functional as F\n",
        "import numpy as np"
      ],
      "execution_count": 1,
      "outputs": []
    },
    {
      "cell_type": "markdown",
      "metadata": {
        "id": "WE5RQvcSexTJ"
      },
      "source": [
        "## 依照指示取出模型特定層的資訊"
      ]
    },
    {
      "cell_type": "code",
      "metadata": {
        "id": "K-3XdZ9oexTK"
      },
      "source": [
        "# Define model\n",
        "class TheModelClass(nn.Module):\n",
        "    def __init__(self):\n",
        "        super(TheModelClass, self).__init__()\n",
        "        self.conv1 = nn.Conv2d(3, 6, 5)\n",
        "        self.pool = nn.MaxPool2d(2, 2)\n",
        "        self.conv2 = nn.Conv2d(6, 16, 5)\n",
        "        self.fc1 = nn.Linear(16* 5 * 5, 120)\n",
        "        self.fc2 = nn.Linear(120, 84)\n",
        "        self.fc3 = nn.Linear(84, 10)\n",
        "\n",
        "    def forward(self, x):\n",
        "        x = self.pool(F.relu(self.conv1(x)))\n",
        "        x = self.pool(F.relu(self.conv2(x)))\n",
        "        x = x.view(-1, 16 * 5 * 5)\n",
        "        x = F.relu(self.fc1(x))\n",
        "        x = F.relu(self.fc2(x))\n",
        "        x = self.fc3(x)\n",
        "        return x\n",
        "\n",
        "# Initialize model\n",
        "model = TheModelClass()\n"
      ],
      "execution_count": 2,
      "outputs": []
    },
    {
      "cell_type": "markdown",
      "metadata": {
        "id": "PRnIVTPqexTK"
      },
      "source": [
        "### 取出 self.pool層兩次的輸出，包含：\n",
        "* x = self.pool(F.relu(self.conv1(x)))\n",
        "* x = self.pool(F.relu(self.conv2(x)))"
      ]
    },
    {
      "cell_type": "code",
      "metadata": {
        "colab": {
          "base_uri": "https://localhost:8080/"
        },
        "id": "cBduCe98A8MT",
        "outputId": "7e98c1e7-958d-401e-c57d-1541b80d3f47"
      },
      "source": [
        "outputs= []\n",
        "def layer1_hook(module, input_, output):\n",
        "    outputs.append(output)\n",
        "\n",
        "model.pool.register_forward_hook(layer1_hook)"
      ],
      "execution_count": 4,
      "outputs": [
        {
          "output_type": "execute_result",
          "data": {
            "text/plain": [
              "<torch.utils.hooks.RemovableHandle at 0x7f1c2702bdd0>"
            ]
          },
          "metadata": {
            "tags": []
          },
          "execution_count": 4
        }
      ]
    },
    {
      "cell_type": "code",
      "metadata": {
        "id": "cPzTR9A2exTM"
      },
      "source": [
        "input_ = torch.randn(1, 3, 32, 32)\n",
        "output = model(input_)"
      ],
      "execution_count": null,
      "outputs": []
    },
    {
      "cell_type": "code",
      "metadata": {
        "colab": {
          "base_uri": "https://localhost:8080/"
        },
        "id": "EZJKfsjEBpOA",
        "outputId": "337fa3e0-2414-4ce1-d5c5-f5f292caa8eb"
      },
      "source": [
        "outputs"
      ],
      "execution_count": 6,
      "outputs": [
        {
          "output_type": "execute_result",
          "data": {
            "text/plain": [
              "[tensor([[[[0.2415, 1.3763, 0.7276,  ..., 1.2936, 0.6038, 1.3411],\n",
              "           [1.4400, 0.6664, 1.8422,  ..., 0.5921, 0.6779, 0.4613],\n",
              "           [1.6598, 1.8536, 0.6854,  ..., 1.0215, 1.5402, 0.9231],\n",
              "           ...,\n",
              "           [1.6347, 0.6404, 0.5504,  ..., 0.2078, 0.3963, 0.3839],\n",
              "           [1.0808, 0.1545, 0.7740,  ..., 0.6426, 0.6536, 1.1092],\n",
              "           [0.4819, 0.3031, 0.3597,  ..., 0.9757, 0.7995, 1.0357]],\n",
              " \n",
              "          [[0.8365, 0.0000, 0.1504,  ..., 0.1536, 0.9191, 0.8239],\n",
              "           [1.3612, 1.1756, 0.7112,  ..., 1.0478, 0.6981, 1.3922],\n",
              "           [0.4473, 0.4580, 1.6039,  ..., 1.6072, 0.2238, 0.0000],\n",
              "           ...,\n",
              "           [0.5208, 0.3197, 0.4138,  ..., 0.4547, 0.5069, 1.2709],\n",
              "           [0.7386, 0.6545, 1.1708,  ..., 0.9969, 0.6994, 0.2885],\n",
              "           [1.4769, 0.1775, 0.9832,  ..., 1.2577, 0.8351, 0.4186]],\n",
              " \n",
              "          [[1.0176, 0.8048, 0.8544,  ..., 0.4424, 0.5881, 0.1794],\n",
              "           [0.5343, 0.4969, 0.8094,  ..., 1.2897, 0.4380, 0.4798],\n",
              "           [0.3216, 1.2556, 0.1000,  ..., 0.8242, 0.6230, 0.4692],\n",
              "           ...,\n",
              "           [0.1448, 0.6826, 0.5013,  ..., 0.4255, 1.0417, 0.1295],\n",
              "           [0.4223, 0.7178, 0.9321,  ..., 0.2294, 0.0350, 0.5442],\n",
              "           [0.3104, 0.5650, 1.0273,  ..., 0.4108, 0.6037, 0.3483]],\n",
              " \n",
              "          [[0.8458, 0.1071, 0.9177,  ..., 0.4274, 1.0954, 1.1484],\n",
              "           [1.3353, 0.5456, 0.5783,  ..., 0.5861, 0.5832, 1.3074],\n",
              "           [1.2656, 0.1157, 0.6778,  ..., 0.0000, 0.6528, 0.1817],\n",
              "           ...,\n",
              "           [0.6294, 0.7698, 1.1121,  ..., 0.7776, 0.8864, 1.2993],\n",
              "           [0.9277, 0.2756, 0.1545,  ..., 0.7868, 0.4344, 1.1116],\n",
              "           [0.9622, 0.7165, 0.9949,  ..., 0.9257, 0.7276, 0.2742]],\n",
              " \n",
              "          [[0.3465, 0.2029, 0.2610,  ..., 0.7664, 0.2461, 0.5502],\n",
              "           [1.0607, 0.4569, 0.5642,  ..., 0.8503, 0.5498, 0.0224],\n",
              "           [0.1956, 0.0000, 0.4034,  ..., 0.9446, 0.9785, 1.2508],\n",
              "           ...,\n",
              "           [0.0000, 0.7247, 1.1858,  ..., 1.1790, 0.6076, 0.6257],\n",
              "           [0.0000, 1.1872, 0.4528,  ..., 0.3440, 0.9108, 0.0129],\n",
              "           [0.1373, 1.0047, 0.7493,  ..., 0.4498, 0.4897, 0.4227]],\n",
              " \n",
              "          [[0.9114, 0.8090, 0.1842,  ..., 0.4110, 0.9422, 0.1466],\n",
              "           [0.0456, 0.4081, 0.1557,  ..., 0.4553, 0.5014, 0.5418],\n",
              "           [0.5823, 0.6912, 0.7584,  ..., 1.3013, 0.1971, 0.1662],\n",
              "           ...,\n",
              "           [0.5741, 0.3775, 1.3942,  ..., 0.9801, 0.1885, 0.7848],\n",
              "           [0.3538, 0.8087, 0.3507,  ..., 0.1344, 0.4363, 0.3555],\n",
              "           [0.5968, 1.1334, 0.6153,  ..., 0.1794, 0.1082, 0.0000]]]],\n",
              "        grad_fn=<MaxPool2DWithIndicesBackward>),\n",
              " tensor([[[[0.2579, 0.6185, 0.2439, 0.4178, 0.3508],\n",
              "           [0.1940, 0.3597, 0.1988, 0.0000, 0.1192],\n",
              "           [0.5530, 0.1934, 0.3960, 0.2934, 0.7201],\n",
              "           [0.0824, 0.3061, 0.1674, 0.0362, 0.2947],\n",
              "           [0.1063, 0.2001, 0.3597, 0.6996, 0.4081]],\n",
              " \n",
              "          [[0.0451, 0.0000, 0.0910, 0.0000, 0.0000],\n",
              "           [0.0000, 0.0512, 0.2088, 0.0000, 0.0000],\n",
              "           [0.0000, 0.0000, 0.0000, 0.0000, 0.0846],\n",
              "           [0.0000, 0.0000, 0.0000, 0.0727, 0.0000],\n",
              "           [0.0000, 0.0000, 0.0000, 0.0000, 0.2377]],\n",
              " \n",
              "          [[0.5237, 0.2360, 0.5477, 0.2115, 0.4800],\n",
              "           [0.3286, 0.2066, 0.2118, 0.3652, 0.3542],\n",
              "           [0.5323, 0.1318, 0.5163, 0.3071, 0.3098],\n",
              "           [0.1946, 0.2617, 0.2369, 0.5039, 0.1580],\n",
              "           [0.1767, 0.3083, 0.2324, 0.4146, 0.0000]],\n",
              " \n",
              "          [[0.0000, 0.0000, 0.0000, 0.0000, 0.0000],\n",
              "           [0.0000, 0.0000, 0.0000, 0.0000, 0.0000],\n",
              "           [0.0000, 0.0000, 0.0000, 0.0000, 0.0000],\n",
              "           [0.0000, 0.0000, 0.0000, 0.0000, 0.0000],\n",
              "           [0.0000, 0.0000, 0.0000, 0.0000, 0.0000]],\n",
              " \n",
              "          [[0.4748, 0.5828, 0.3889, 0.6500, 0.4812],\n",
              "           [0.5136, 0.6538, 0.3089, 0.5004, 0.7977],\n",
              "           [0.3417, 0.5082, 0.5464, 0.2727, 0.3708],\n",
              "           [0.6796, 0.7416, 0.5103, 0.4543, 0.4421],\n",
              "           [0.5424, 0.5147, 0.3600, 0.6964, 0.3646]],\n",
              " \n",
              "          [[0.4206, 0.3722, 0.5621, 0.4542, 0.4145],\n",
              "           [0.3426, 0.5009, 0.4927, 0.4888, 0.3462],\n",
              "           [0.5070, 0.0913, 0.2100, 0.3706, 0.5308],\n",
              "           [0.5155, 0.5306, 0.6010, 0.4110, 0.3240],\n",
              "           [0.3922, 0.2906, 0.3773, 0.6654, 0.3982]],\n",
              " \n",
              "          [[0.1778, 0.0000, 0.1810, 0.0450, 0.2296],\n",
              "           [0.1355, 0.4204, 0.0735, 0.1138, 0.3402],\n",
              "           [0.0565, 0.0000, 0.0000, 0.0000, 0.1811],\n",
              "           [0.0000, 0.0531, 0.0000, 0.0000, 0.3036],\n",
              "           [0.0564, 0.0000, 0.5230, 0.2676, 0.0000]],\n",
              " \n",
              "          [[0.0000, 0.1240, 0.0419, 0.0000, 0.0000],\n",
              "           [0.0000, 0.0000, 0.0000, 0.0000, 0.0000],\n",
              "           [0.0000, 0.0000, 0.0000, 0.0000, 0.0000],\n",
              "           [0.0000, 0.0000, 0.0000, 0.0000, 0.0000],\n",
              "           [0.0000, 0.0000, 0.0000, 0.0000, 0.0000]],\n",
              " \n",
              "          [[0.0000, 0.0000, 0.0000, 0.0000, 0.0000],\n",
              "           [0.0000, 0.0000, 0.0000, 0.1857, 0.0000],\n",
              "           [0.0000, 0.0000, 0.0000, 0.0000, 0.0000],\n",
              "           [0.0000, 0.0109, 0.0000, 0.1750, 0.0000],\n",
              "           [0.0000, 0.0000, 0.0000, 0.0000, 0.0000]],\n",
              " \n",
              "          [[0.8314, 0.8991, 0.6198, 0.7568, 0.9109],\n",
              "           [0.6414, 0.5167, 0.7547, 0.6439, 0.7688],\n",
              "           [0.7234, 1.0266, 0.9046, 0.8758, 0.7740],\n",
              "           [0.8322, 0.6082, 0.7972, 0.6216, 0.5701],\n",
              "           [0.7670, 0.8814, 0.6805, 0.3507, 0.7291]],\n",
              " \n",
              "          [[0.5861, 0.6668, 0.4904, 0.3523, 0.5399],\n",
              "           [0.4722, 0.5259, 0.6109, 0.8075, 0.5517],\n",
              "           [0.4785, 0.8280, 0.3943, 0.8123, 0.7740],\n",
              "           [0.7839, 0.6662, 0.7562, 0.5668, 0.7288],\n",
              "           [0.4563, 0.4718, 0.4966, 0.4771, 0.5980]],\n",
              " \n",
              "          [[0.2366, 0.0000, 0.1635, 0.2872, 0.0000],\n",
              "           [0.1459, 0.0000, 0.1187, 0.1038, 0.0000],\n",
              "           [0.1981, 0.0000, 0.0000, 0.1380, 0.1520],\n",
              "           [0.0362, 0.1193, 0.0000, 0.2014, 0.1232],\n",
              "           [0.0000, 0.0000, 0.2834, 0.2351, 0.1299]],\n",
              " \n",
              "          [[0.0000, 0.1578, 0.0000, 0.0000, 0.1694],\n",
              "           [0.2168, 0.0512, 0.0000, 0.2318, 0.0000],\n",
              "           [0.0000, 0.0000, 0.1964, 0.0000, 0.3409],\n",
              "           [0.1038, 0.0000, 0.1876, 0.0000, 0.0000],\n",
              "           [0.0086, 0.2049, 0.0000, 0.0346, 0.2520]],\n",
              " \n",
              "          [[0.7004, 0.6121, 0.5510, 0.3438, 0.3013],\n",
              "           [0.4831, 0.7604, 0.1533, 0.7076, 0.3700],\n",
              "           [0.5456, 0.6814, 0.3366, 0.4185, 0.4045],\n",
              "           [0.1669, 0.5942, 0.3671, 0.6473, 0.5557],\n",
              "           [0.3807, 0.2153, 0.5939, 0.3143, 0.4910]],\n",
              " \n",
              "          [[0.2624, 0.3885, 0.5716, 0.4640, 0.5568],\n",
              "           [0.5157, 0.6641, 0.6009, 0.4742, 0.4871],\n",
              "           [0.6324, 0.3318, 0.5136, 0.2522, 0.5141],\n",
              "           [0.6074, 0.4821, 0.8536, 0.6813, 0.3923],\n",
              "           [0.1341, 0.3994, 0.6047, 0.2175, 0.3305]],\n",
              " \n",
              "          [[0.0000, 0.1454, 0.1144, 0.1478, 0.0413],\n",
              "           [0.1944, 0.4239, 0.0032, 0.0721, 0.0139],\n",
              "           [0.0000, 0.1738, 0.0000, 0.2051, 0.0546],\n",
              "           [0.0000, 0.1305, 0.3139, 0.0000, 0.0000],\n",
              "           [0.0000, 0.0976, 0.1905, 0.0369, 0.0309]]]],\n",
              "        grad_fn=<MaxPool2DWithIndicesBackward>)]"
            ]
          },
          "metadata": {
            "tags": []
          },
          "execution_count": 6
        }
      ]
    },
    {
      "cell_type": "code",
      "metadata": {
        "colab": {
          "base_uri": "https://localhost:8080/"
        },
        "id": "qqIB2OJ9BuZ6",
        "outputId": "da6fab5c-8747-47de-8dbc-0874499fb55c"
      },
      "source": [
        "print(outputs[0].shape)\n",
        "print(outputs[1].shape)"
      ],
      "execution_count": 7,
      "outputs": [
        {
          "output_type": "stream",
          "text": [
            "torch.Size([1, 6, 14, 14])\n",
            "torch.Size([1, 16, 5, 5])\n"
          ],
          "name": "stdout"
        }
      ]
    },
    {
      "cell_type": "markdown",
      "metadata": {
        "id": "hiOXTSc8exTO"
      },
      "source": [
        "## 加入自定義 initialization fuction"
      ]
    },
    {
      "cell_type": "markdown",
      "metadata": {
        "id": "ZSWR7sebexTO"
      },
      "source": [
        "#### 對所有Conv2D層使用自定義initialization function\n",
        "* weight : nn.init.kaiming_normal_\n",
        "* bias : 全部輸入1"
      ]
    },
    {
      "cell_type": "code",
      "metadata": {
        "colab": {
          "base_uri": "https://localhost:8080/"
        },
        "id": "3GcTR8fCIy8P",
        "outputId": "12a6e9c3-0dbf-4d12-b5d9-d13eafaa9fbb"
      },
      "source": [
        "from torch.nn import init\n",
        "\n",
        "def weights_init(m):\n",
        "    #classname = m.__class__.__name__\n",
        "    if isinstance(m, nn.Conv2d):\n",
        "        #torch.nn.init.xavier_uniform_(m.weight)\n",
        "        nn.init.kaiming_normal_(m.weight.data,\n",
        "                                    a=0,\n",
        "                                    mode='fan_out',\n",
        "                                    nonlinearity='relu')\n",
        "        if m.bias is not None:\n",
        "            m.bias.data.fill_(1)\n",
        "            \n",
        "model.apply(weights_init)"
      ],
      "execution_count": 8,
      "outputs": [
        {
          "output_type": "execute_result",
          "data": {
            "text/plain": [
              "TheModelClass(\n",
              "  (conv1): Conv2d(3, 6, kernel_size=(5, 5), stride=(1, 1))\n",
              "  (pool): MaxPool2d(kernel_size=2, stride=2, padding=0, dilation=1, ceil_mode=False)\n",
              "  (conv2): Conv2d(6, 16, kernel_size=(5, 5), stride=(1, 1))\n",
              "  (fc1): Linear(in_features=400, out_features=120, bias=True)\n",
              "  (fc2): Linear(in_features=120, out_features=84, bias=True)\n",
              "  (fc3): Linear(in_features=84, out_features=10, bias=True)\n",
              ")"
            ]
          },
          "metadata": {
            "tags": []
          },
          "execution_count": 8
        }
      ]
    },
    {
      "cell_type": "markdown",
      "metadata": {
        "id": "pVbGZIcpexTP"
      },
      "source": [
        "#### 查看 conv層的bias是否皆為1"
      ]
    },
    {
      "cell_type": "code",
      "metadata": {
        "colab": {
          "base_uri": "https://localhost:8080/"
        },
        "id": "hMDkmoFrLe_8",
        "outputId": "71aecad7-a772-4f22-856c-fa485520c78c"
      },
      "source": [
        "for name, parameters in model.named_parameters():\n",
        "    if ('conv' in name) and ('bias' in name):\n",
        "        print(name, parameters)\n",
        "        print('\\n')"
      ],
      "execution_count": 9,
      "outputs": [
        {
          "output_type": "stream",
          "text": [
            "conv1.bias Parameter containing:\n",
            "tensor([1., 1., 1., 1., 1., 1.], requires_grad=True)\n",
            "\n",
            "\n",
            "conv2.bias Parameter containing:\n",
            "tensor([1., 1., 1., 1., 1., 1., 1., 1., 1., 1., 1., 1., 1., 1., 1., 1.],\n",
            "       requires_grad=True)\n",
            "\n",
            "\n"
          ],
          "name": "stdout"
        }
      ]
    },
    {
      "cell_type": "code",
      "metadata": {
        "id": "7rroI5OAexTQ"
      },
      "source": [
        ""
      ],
      "execution_count": null,
      "outputs": []
    }
  ]
}